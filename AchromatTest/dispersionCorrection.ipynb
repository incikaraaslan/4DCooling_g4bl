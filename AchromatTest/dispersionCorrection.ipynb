{
 "cells": [
  {
   "cell_type": "markdown",
   "metadata": {},
   "source": [
    "### Inci's Preliminary Dispersion Correction Code"
   ]
  },
  {
   "cell_type": "code",
   "execution_count": 57,
   "metadata": {},
   "outputs": [],
   "source": [
    "# Imports\n",
    "import numpy as np\n",
    "import matplotlib.pyplot as plt\n",
    "from g4beam import *\n",
    "from scan import *\n",
    "\n",
    "import math\n",
    "import matplotlib.pyplot as plt\n",
    "import matplotlib.animation as animation\n",
    "from matplotlib import cm\n",
    "import numpy as np\n",
    "import pandas as pd\n",
    "from tqdm import *\n",
    "import pandas as pd\n",
    "import pickle\n",
    "import itertools\n",
    "from tabulate import tabulate\n",
    "import tempfile\n",
    "import glob"
   ]
  },
  {
   "cell_type": "code",
   "execution_count": 58,
   "metadata": {},
   "outputs": [
    {
     "name": "stdout",
     "output_type": "stream",
     "text": [
      "/home/incik/G4beamline-3.08/bin/g4bl\n"
     ]
    }
   ],
   "source": [
    "# Make Sure g4bl is here\n",
    "import os\n",
    "os.environ[\"PATH\"] += os.pathsep + \"/home/incik/G4beamline-3.08/bin\"\n",
    "import shutil\n",
    "print(shutil.which(\"g4bl\"))"
   ]
  },
  {
   "cell_type": "code",
   "execution_count": 59,
   "metadata": {},
   "outputs": [
    {
     "name": "stdout",
     "output_type": "stream",
     "text": [
      "D_x: 0.007405947668631706, D'_x: -0.18883973986720437, D_y: 5.278092595079276e-05, D'_y: 0.012149181979370281\n"
     ]
    },
    {
     "name": "stderr",
     "output_type": "stream",
     "text": [
      "/tmp/ipykernel_16733/4034819515.py:13: FutureWarning: The 'delim_whitespace' keyword in pd.read_csv is deprecated and will be removed in a future version. Use ``sep='\\s+'`` instead\n",
      "  df = pd.read_csv(filename, comment=\"#\", delim_whitespace=True, names=columns)\n"
     ]
    }
   ],
   "source": [
    "# Load data POST WEDGE as a Dataframe so that you can use Daniel Fu's functions\n",
    "filename = \"particles_after.txt\"\n",
    "\n",
    "# Skip the first two header lines that start with '#'\n",
    "with open(filename) as f:\n",
    "    # Read until the line containing column names\n",
    "    for line in f:\n",
    "        if line.startswith(\"#x \"):\n",
    "            columns = line.strip().lstrip(\"#\").split()\n",
    "            break\n",
    "\n",
    "# Now load the data into a DataFrame\n",
    "df = pd.read_csv(filename, comment=\"#\", delim_whitespace=True, names=columns)\n",
    "\n",
    "x_params, y_params, z_emit = calc_all_params(df) # _params are tuples of the form (emittance, beta, gamma, alpha, D, D')\n",
    "print(f\"D_x: {x_params[4]}, D'_x: {x_params[5]}, D_y: {y_params[4]}, D'_y: {y_params[5]}\")"
   ]
  },
  {
   "cell_type": "code",
   "execution_count": 60,
   "metadata": {},
   "outputs": [
    {
     "data": {
      "text/plain": [
       "'params = {\\n    \"E\": E0,\\n    \"B1\": 0.7, \"B2\": -0.7,\\n    \"G\": 50.0,\\n    \"L1\": 0.5, \"Lq\": 0.3, \"L2\": 0.5, \"L3\": 0.2,\\n    \"VD_FILENAME\": \"vd_out.txt\",\\n    \"N_PARTICLES\": 5000\\n}'"
      ]
     },
     "execution_count": 60,
     "metadata": {},
     "output_type": "execute_result"
    }
   ],
   "source": [
    "\"\"\"\n",
    "Optimize a 2-bend + central quadrupole cell so that\n",
    "D_x = D'_x = D_y = D'_y = 0 at a virtual detector location.\n",
    "\n",
    "Approach:\n",
    "- For each trial set of magnet params, create a g4bl input that produces a single\n",
    "multi-particle run with a momentum spread and writes an ASCII zntuple with columns:\n",
    "    x xp y yp delta\n",
    "- Parse the file and compute dispersions and slopes via covariance (no ± runs).\n",
    "- Minimize cost = w_x*(D_x^2 + D'_x^2) + w_y*(D_y^2 + D'_y^2).\n",
    "\"\"\"\n",
    "\n",
    "# ---------------- USER CONFIG ----------------\n",
    "G4BEAMLINE_CMD = \"g4bl\"\n",
    "TEMPLATE_FILE = \"Achromat.g4bl\"\n",
    "OUTPUT_DIR = \"achromat_runs\"\n",
    "VD_FILENAME = \"vd_achromat.txt\"   # virtual detector writes this file (ascii)\n",
    "N_PARTICLES = 5000             # increase for lower noise\n",
    "E0 = 1e4                       # beam energy (GeV) - for a muon collider\n",
    "# objective weights\n",
    "w_x = 1.0\n",
    "w_y = 1.0\n",
    "# variable bounds and names (example): [B1, B2, G, L1, L2, x1_offset, x2_offset]\n",
    "var_names = ['N_PARTICLES', 'Z1', 'B1', 'B2', 'G1', 'LB1', 'LB2', 'L1', 'LQ', 'L2', 'L3', 'VD_FILENAME']\n",
    "bounds = [(1000,50000),(-1.5, 1.5), (-1.5, 1.5), (-100.0, 100.0), (0.05, 5.0), (0.05, 5.0), (0.05, 5.0), (0.05, 5.0), VD_FILENAME]\n",
    "xvec = np.array([N_PARTICLES, 100.0, 1.0, 1.0, 50, 200.0, 200.0, 250.0, 230.0, 240.0, 250.0, VD_FILENAME])\n",
    "os.makedirs(OUTPUT_DIR, exist_ok=True)\n",
    "\n",
    "\"\"\"params = {\n",
    "    \"E\": E0,\n",
    "    \"B1\": 0.7, \"B2\": -0.7,\n",
    "    \"G\": 50.0,\n",
    "    \"L1\": 0.5, \"Lq\": 0.3, \"L2\": 0.5, \"L3\": 0.2,\n",
    "    \"VD_FILENAME\": \"vd_out.txt\",\n",
    "    \"N_PARTICLES\": 5000\n",
    "}\"\"\""
   ]
  },
  {
   "cell_type": "code",
   "execution_count": 61,
   "metadata": {},
   "outputs": [
    {
     "name": "stdout",
     "output_type": "stream",
     "text": [
      "{'N_PARTICLES': np.str_('5000'), 'Z1': np.str_('100.0'), 'B1': np.str_('1.0'), 'B2': np.str_('1.0'), 'G1': np.str_('50'), 'LB1': np.str_('200.0'), 'LB2': np.str_('200.0'), 'L1': np.str_('250.0'), 'LQ': np.str_('230.0'), 'L2': np.str_('240.0'), 'L3': np.str_('250.0'), 'VD_FILENAME': np.str_('vd_achromat.txt')}\n"
     ]
    }
   ],
   "source": [
    "# OK workflow wise -- we'd like to write on to this file in the correct places, and then run it w g4bl, and then optimize\n",
    "def write_input_from_template(template_path, out_path, replacements):\n",
    "    with open(template_path, 'r') as f:\n",
    "        txt = f.read()\n",
    "    try:\n",
    "        txt = txt.format(**replacements)\n",
    "    except KeyError as e:\n",
    "        raise RuntimeError(f\"Template substitution failed; missing placeholder: {e}\")\n",
    "    with open(out_path, 'w') as f:\n",
    "        f.write(txt)\n",
    "\n",
    "params = {name: val for name, val in zip(var_names, xvec)}\n",
    "print(params)\n",
    "write_input_from_template(TEMPLATE_FILE, f\"/home/incik/Cooling_4D/AchromatTest/{OUTPUT_DIR}/run.g4bl\", params)"
   ]
  },
  {
   "cell_type": "code",
   "execution_count": null,
   "metadata": {},
   "outputs": [],
   "source": []
  }
 ],
 "metadata": {
  "kernelspec": {
   "display_name": "base",
   "language": "python",
   "name": "python3"
  },
  "language_info": {
   "codemirror_mode": {
    "name": "ipython",
    "version": 3
   },
   "file_extension": ".py",
   "mimetype": "text/x-python",
   "name": "python",
   "nbconvert_exporter": "python",
   "pygments_lexer": "ipython3",
   "version": "3.12.2"
  }
 },
 "nbformat": 4,
 "nbformat_minor": 2
}
