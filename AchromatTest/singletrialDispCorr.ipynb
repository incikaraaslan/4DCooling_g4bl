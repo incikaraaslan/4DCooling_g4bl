{
 "cells": [
  {
   "cell_type": "markdown",
   "metadata": {},
   "source": [
    "### Inci's Preliminary Dispersion Calculation Code"
   ]
  },
  {
   "cell_type": "code",
   "execution_count": 3,
   "metadata": {},
   "outputs": [],
   "source": [
    "# Imports\n",
    "import numpy as np\n",
    "import matplotlib.pyplot as plt\n",
    "from g4beam import *\n",
    "from scan import *\n",
    "from scipy.optimize import differential_evolution\n",
    "\n",
    "import math\n",
    "import matplotlib.pyplot as plt\n",
    "import matplotlib.animation as animation\n",
    "from matplotlib import cm\n",
    "import numpy as np\n",
    "import pandas as pd\n",
    "from tqdm import *\n",
    "import pickle\n",
    "import itertools\n",
    "import os\n",
    "from tabulate import tabulate\n",
    "import tempfile\n",
    "import glob\n",
    "import json\n",
    "import warnings\n",
    "warnings.filterwarnings('ignore', category=DeprecationWarning)"
   ]
  },
  {
   "cell_type": "code",
   "execution_count": 4,
   "metadata": {},
   "outputs": [
    {
     "name": "stdout",
     "output_type": "stream",
     "text": [
      "Updated file saved as 'particles_after.txt'\n"
     ]
    }
   ],
   "source": [
    "def convertZ(input_file, output_file):\n",
    "    event_id_counter = 1\n",
    "    with open(input_file, \"r\") as infile, open(output_file, \"w\") as outfile:\n",
    "        for line in infile:\n",
    "            # Skip header lines (those starting with #)\n",
    "            if line.strip().startswith(\"#\"):\n",
    "                outfile.write(line)\n",
    "                continue\n",
    "\n",
    "            # Split the line into columns\n",
    "            parts = line.strip().split()\n",
    "            if len(parts) >= 12:\n",
    "                parts[2] = \"0\"  # Set the 3rd column (z) to 0\n",
    "                # Replace event ID (assuming it's the 9th column, zero-based index 8)\n",
    "                # Adjust if your event ID is in a different column\n",
    "                parts[8] = str(event_id_counter)\n",
    "                event_id_counter += 1\n",
    "                new_line = \" \".join(parts)\n",
    "                outfile.write(new_line + \"\\n\")\n",
    "            else:\n",
    "                # Handle lines that don't match expected format\n",
    "                outfile.write(line)\n",
    "    print(f\"Updated file saved as '{output_file}'\")\n",
    "    os.remove(input_file)\n",
    "    return None\n",
    "convertZ(\"particles_afterupt.txt\", \"particles_after.txt\")"
   ]
  },
  {
   "cell_type": "code",
   "execution_count": 4,
   "metadata": {},
   "outputs": [
    {
     "name": "stdout",
     "output_type": "stream",
     "text": [
      "/home/incik/G4beamline-3.08/bin/g4bl\n"
     ]
    }
   ],
   "source": [
    "# Make Sure g4bl is here\n",
    "import os\n",
    "os.environ[\"PATH\"] += os.pathsep + \"/home/incik/G4beamline-3.08/bin\"\n",
    "import shutil\n",
    "print(shutil.which(\"g4bl\"))"
   ]
  },
  {
   "cell_type": "code",
   "execution_count": 5,
   "metadata": {},
   "outputs": [
    {
     "name": "stdout",
     "output_type": "stream",
     "text": [
      "{'D_x': np.float64(0.007405947668631706), \"D'_x\": np.float64(-0.18883973986720437), 'D_y': np.float64(5.278092595079276e-05), \"D'_y\": np.float64(0.012149181979370281)}\n",
      "0.03586290082257793\n",
      "Epsilon_z: 8.303137587240382\n"
     ]
    },
    {
     "name": "stderr",
     "output_type": "stream",
     "text": [
      "<>:13: SyntaxWarning: invalid escape sequence '\\s'\n",
      "<>:13: SyntaxWarning: invalid escape sequence '\\s'\n",
      "/tmp/ipykernel_3264/3985800805.py:13: SyntaxWarning: invalid escape sequence '\\s'\n",
      "  df = pd.read_csv(filename, comment=\"#\", sep='\\s+', names=columns)\n"
     ]
    }
   ],
   "source": [
    "# Load data POST WEDGE as a Dataframe so that you can use Daniel Fu's functions\n",
    "filename = \"particles_after.txt\"\n",
    "\n",
    "# Skip the first two header lines that start with '#'\n",
    "with open(filename) as f:\n",
    "    # Read until the line containing column names\n",
    "    for line in f:\n",
    "        if line.startswith(\"#x \"):\n",
    "            columns = line.strip().lstrip(\"#\").split()\n",
    "            break\n",
    "\n",
    "# Now load the data into a DataFrame\n",
    "df = pd.read_csv(filename, comment=\"#\", sep='\\s+', names=columns)\n",
    "\n",
    "x_params, y_params, z_emit = calc_all_params(df) # _params are tuples of the form (emittance, beta, gamma, alpha, D, D')\n",
    "D_dict = {\"D_x\": x_params[4], \"D'_x\": x_params[5], \"D_y\": y_params[4], \"D'_y\": y_params[5]}\n",
    "print(D_dict)\n",
    "cost = D_dict[\"D_x\"]**2 + D_dict[\"D'_x\"]**2 + D_dict[\"D_y\"]**2 + D_dict[\"D'_y\"]**2 \n",
    "print(cost)\n",
    "print(r\"Epsilon_z: \"+str(z_emit))"
   ]
  },
  {
   "cell_type": "code",
   "execution_count": 22,
   "metadata": {},
   "outputs": [
    {
     "name": "stdout",
     "output_type": "stream",
     "text": [
      "-0.133, 74.7401, 61.9187, 267.6652, 177.7786, -43.4531, 73.1234, 20.4404, -0.0126, 167.5582, 144.8055, 53.6328, 120.1356, 80.1068, 463.8105, 102.022, 129.0529, 316.7456\n"
     ]
    }
   ],
   "source": [
    "import re\n",
    "def parse_best_result(text):\n",
    "    # Regex: captures variable name and numeric value (supports +/-, decimals, exponents)\n",
    "    pattern = r\"([A-Za-z0-9_]+)\\s*=\\s*([+-]?\\d+(?:\\.\\d+)?(?:[eE][+-]?\\d+)?)\"\n",
    "    matches = re.findall(pattern, text)\n",
    "\n",
    "    # Convert to dictionary\n",
    "    result_dict = {k: float(v) for k, v in matches}\n",
    "\n",
    "    # Optional: turn into NumPy array (just the values)\n",
    "    keys = list(result_dict.keys())\n",
    "    values = np.array([result_dict[k] for k in keys])\n",
    "\n",
    "    # Print them as a Python-style array\n",
    "    print(\", \".join(str(v) for v in values[:-1]))\n",
    "\n",
    "    return result_dict, keys, values\n",
    "text = input(\"Paste the best result from optimization\")\n",
    "result_dict, keys, xvec = parse_best_result(text)"
   ]
  },
  {
   "cell_type": "code",
   "execution_count": 45,
   "metadata": {},
   "outputs": [],
   "source": [
    "# ---------------- USER CONFIG ----------------\n",
    "G4BEAMLINE_CMD = \"g4bl\"\n",
    "TEMPLATE_FILE = \"AchromatLoop.g4bl\"\n",
    "OUTPUT_DIR = \"achromat_runs\"\n",
    "VD_FILENAME = \"vd_achromatLoop.txt\"   # virtual detector writes this file (ascii)\n",
    "N_PARTICLES = 5000             # increase for lower noise\n",
    "G4BLFILE = f\"/home/incik/Cooling_4D/AchromatTest/runloop.g4bl\"\n",
    "G4BLOUTPUT =f\"/home/incik/Cooling_4D/AchromatTest/{VD_FILENAME}\"\n",
    "E0 = 1e4                       # beam energy (GeV) - for a muon collider\n",
    "\n",
    "# {B1_field}, {B1_width}, {B1_height}, {B1_length}, {B1_z}, {Q1_gradient}, {Q1_length}, {radius_q}\n",
    "# {B2_field}, {B2_width}, {B2_height}, {B2_length}\n",
    "# {Drift1_width}, {Drift1_height}, {Drift1_length}, \n",
    "# {Drift2_width}, {Drift2_height}, {Drift2_length}\n",
    "\n",
    "var_names = [\"N_PARTICLES\", \"B1_field\", \"B1_width\", \"B1_height\", \"B1_length\", \"B1_z\",\n",
    "            \"Q1_gradient\", \"Q1_length\", \"radius_q\", \"B2_field\", \"B2_width\", \"B2_height\", \"B2_length\",\n",
    "            \"Drift1_width\", \"Drift1_height\", \"Drift1_length\", \"Drift2_width\", \"Drift2_height\", \"Drift2_length\", \"VD_FILENAME\"]\n",
    "\n",
    "\n",
    "xvec = np.array([int(N_PARTICLES), -0.133, 74.7401, 61.9187, 267.6652, 177.7786, -43.4531, 73.1234, 20.4404, -0.0126, 167.5582, \n",
    "                 144.8055, 53.6328, 120.1356, 80.1068, 463.8105, 102.022, 129.0529, 316.7456, VD_FILENAME])\n",
    "# 5000 Particle Opt:\n",
    "# xvec = np.array([int(N_PARTICLES),  -0.0157, 123.8669, 76.5539, 184.5674, 84.8239, -2.7065, 244.3089, 18.1791, -1.4222, 158.1968, 57.5410, 359.0282, \n",
    "#                  181.6853, 166.1331, 157.8154,  181.9824, 133.1504, 468.2003, VD_FILENAME])\n",
    "# 1000 Particle Opt:\n",
    "# xvec = np.array([int(N_PARTICLES),  -0.6719, 63.3749, 156.8672, 224.0275, 63.3824, -91.1134, 156.1167, 14.6261, -1.4102, 109.7400, 197.3407, 274.0035, 175.7871, 100.1926, 71.6003,  76.0153, 73.1403, 725.5903, VD_FILENAME])\n",
    "# np.array([int(N_PARTICLES), 1.0, 100.0, 100.0, 30.0, 50.0, 12.0, 250.0, 10.0, 4.0, 100.0, 100.0, 200.0, 100.0, 100.0, 250.0, 100.0, 100.0, 250.0, VD_FILENAME])\n",
    "calcparams = {name: val for name, val in zip(var_names, xvec)}\n",
    "\n",
    "GAP = 0.1  # in mm (can be up to 1.0 safely)\n",
    "B1_z_val = float(calcparams[\"B1_z\"])\n",
    "L_B1 = float(calcparams[\"B1_length\"])\n",
    "L_D1 = float(calcparams[\"Drift1_length\"])\n",
    "L_Q1 = float(calcparams[\"Q1_length\"])\n",
    "L_D2 = float(calcparams[\"Drift2_length\"])\n",
    "L_B2 = float(calcparams[\"B2_length\"])\n",
    "\n",
    "Drift1_z = B1_z_val + (L_B1/2) + (L_D1/2) + GAP\n",
    "Q1_z     = Drift1_z + (L_D1/2) + (L_Q1/2) + GAP\n",
    "Drift2_z = Q1_z + (L_Q1/2) + (L_D2/2)+ GAP\n",
    "B2_z     = Drift2_z + (L_D2/2) + (L_B2/2) + GAP\n",
    "VD_z     = B2_z + (L_B2/2) + 10.0 + GAP\n",
    "\n",
    "if TEMPLATE_FILE == \"Achromat.g4bl\":\n",
    "    add_params = {\"Drift1_z\": Drift1_z, \"Q1_z\": Q1_z, \"Drift2_z\":Drift2_z, \"B2_z\": B2_z, \"VD_z\": VD_z}\n",
    "elif TEMPLATE_FILE == \"AchromatLoop.g4bl\":\n",
    "    # For AchromatLoop\n",
    "    B1_end = B1_z_val + (L_B1/2)\n",
    "    D1_end = Drift1_z + (L_D1/2)\n",
    "    Q1_end = Q1_z + (L_Q1/2)\n",
    "    D2_end = Drift2_z + (L_D2/2)\n",
    "    B2_end = B2_z + (L_B2/2)\n",
    "\n",
    "    add_params = {\"Drift1_z\": Drift1_z, \"Q1_z\": Q1_z, \"Drift2_z\":Drift2_z, \"B2_z\": B2_z, \"VD_z\": VD_z, \n",
    "                \"B1_end\": B1_end, \"B2_end\": B2_end,  \"D1_end\": D1_end, \"Q1_end\": Q1_end,  \"D2_end\": D2_end}\n",
    "\n",
    "calcparams.update(add_params)\n",
    "\n",
    "for k, v in calcparams.items():\n",
    "    if k == \"N_PARTICLES\" or k == \"VD_FILENAME\":\n",
    "        continue\n",
    "    else:\n",
    "        calcparams[k] = float(v)\n",
    "\n",
    "# os.makedirs(OUTPUT_DIR, exist_ok=True)"
   ]
  },
  {
   "cell_type": "code",
   "execution_count": 46,
   "metadata": {},
   "outputs": [
    {
     "name": "stdout",
     "output_type": "stream",
     "text": [
      "{'N_PARTICLES': np.str_('5000'), 'B1_field': -0.133, 'B1_width': 74.7401, 'B1_height': 61.9187, 'B1_length': 267.6652, 'B1_z': 177.7786, 'Q1_gradient': -43.4531, 'Q1_length': 73.1234, 'radius_q': 20.4404, 'B2_field': -0.0126, 'B2_width': 167.5582, 'B2_height': 144.8055, 'B2_length': 53.6328, 'Drift1_width': 120.1356, 'Drift1_height': 80.1068, 'Drift1_length': 463.8105, 'Drift2_width': 102.022, 'Drift2_height': 129.0529, 'Drift2_length': 316.7456, 'VD_FILENAME': np.str_('vd_achromatLoop.txt'), 'Drift1_z': 543.6164500000001, 'Q1_z': 812.1834000000001, 'Drift2_z': 1007.2179000000001, 'B2_z': 1192.5071, 'VD_z': 1229.4234999999999, 'B1_end': 311.61120000000005, 'B2_end': 1219.3235, 'D1_end': 775.5217000000001, 'Q1_end': 848.7451000000001, 'D2_end': 1165.5907000000002}\n"
     ]
    }
   ],
   "source": [
    "# Write values to the prepared G4BL template\n",
    "def write_input_from_template(template_path, out_path, replacements):\n",
    "    with open(template_path, 'r') as f:\n",
    "        txt = f.read()\n",
    "    try:\n",
    "        txt = txt.format(**replacements)\n",
    "    except KeyError as e:\n",
    "        raise RuntimeError(f\"Template substitution failed; missing placeholder: {e}\")\n",
    "    with open(out_path, 'w') as f:\n",
    "        f.write(txt)\n",
    "\n",
    "# How to Use?\n",
    "print(calcparams)\n",
    "write_input_from_template(TEMPLATE_FILE, G4BLFILE, calcparams)"
   ]
  },
  {
   "cell_type": "code",
   "execution_count": 47,
   "metadata": {},
   "outputs": [
    {
     "name": "stdout",
     "output_type": "stream",
     "text": [
      "CompletedProcess(args=['g4bl', '/home/incik/Cooling_4D/AchromatTest/runloop.g4bl'], returncode=0, stdout=\"G4BL_DIR=/home/incik/G4beamline-3.08\\nG4LEDATA=/home/incik/Geant4Data/G4EMLOW8.0\\nG4ENSDFSTATEDATA=/home/incik/Geant4Data/G4ENSDFSTATE2.3\\nG4PARTICLEXSDATA=/home/incik/Geant4Data/G4PARTICLEXS4.0\\nG4LEVELGAMMADATA=/home/incik/Geant4Data/PhotonEvaporation5.7\\nG4RADIOACTIVEDATA=/home/incik/Geant4Data/RadioactiveDecay5.6\\nG4beamline Process ID 21048\\n\\n*************************************************************\\n g4beamline version: 3.08                        (Aug 11 2022)\\n                      Copyright : Tom Roberts, Muons, Inc.\\n                        License : Gnu Public License\\n                            WWW : http://g4beamline.muonsinc.com\\n\\n          ################################\\n          !!! G4Backtrace is activated !!!\\n          ################################\\n\\n\\n**************************************************************\\n Geant4 version Name: geant4-11-00-patch-02 [MT]   (25-May-2022)\\n                       Copyright : Geant4 Collaboration\\n                      References : NIM A 506 (2003), 250-303\\n                                 : IEEE-TNS 53 (2006), 270-278\\n                                 : NIM A 835 (2016), 186-225\\n                             WWW : http://geant4.org/\\n**************************************************************\\n\\ngeometry                   nPoints=100 printGeometry=0 visual=0\\n                           tolerance=0.002\\nparam        zbegin        0.0\\nstart                      x=0 y=0 z=0 initialZ=0 rotation= radiusCut=300\\n                           ring=0\\nparam        steppingFormat N,GLOBAL,CL,STEP,VOL,PROCESS,P,KE,POLAR,B\\nparam        fieldVoxels   400,400,400\\nparam        maxStep       0.5\\nG4PhysListFactory::GetReferencePhysList <QGSP_BERT>  EMoption= 0\\n<<< Geant4 Physics List simulation engine: QGSP_BERT\\n\\n\\nphysics      QGSP_BERT     disable= inactivate= deactivate= doStochastics=1\\n                           fluct=1 minRangeCut=1 list=0 gammaToMuPair=0\\n                           spinTracking=1 synchrotronRadiation=1\\n                           synchrotronRadiationMuon=0 maxTime=1e+06\\ntrackcuts                  kill= keep=mu-,mu+ killSecondaries=0\\n                           kineticEnergyCut=0 kineticEnergyMax=1.798e+308\\n                           maxTime=1e+06 keepPrimaries=0 steppingVerbose=0\\nparticlecolor              proton=1,1,1\\nparticlecolor              pi+=0,1,0\\nparticlecolor              mu+=1,0.5,0\\nparticlecolor              e+=1,0,0\\nparticlecolor              gamma=0,0,1\\nparticlecolor              e-=1,0.5,0\\nparam        nparticles    5000\\nparam        beamfile      particles_after.txt\\nparam        beamZ         0\\nbeam    ASCII   nEvents=5000 firstEvent=-1 lastEvent=2147483647 beamZ=0.0 maxR=1000000.0 renumber=0 weight=1.000000 \\n\\t\\tfilename=particles_after.txt format=BLTrackFile \\n\\t\\t\\nzntuple                    z=0.0 zloop= noSingles=0 format=ascii\\n                           file=vd_start_achromat.txt\\n                           filename=vd_start_achromat.txt require=PDGid==-13\\n                           referenceParticle=0 coordinates=Centerline\\ngenericbend  B1            fieldWidth=74.74 fieldHeight=61.92\\n                           fieldLength=267.7 ironWidth=84.74 ironHeight=71.92\\n                           ironLength=267.7 By=-0.133 maxStep=0.5\\n                           fieldMaterial=Vacuum fieldColor=0,0,1\\n                           ironMaterial=Fe ironColor=0.6,0.6,0.6 kill=0\\n                           fringe= fringeFactor=1 openAperture=0\\nplace   B1      copies=1 x=0.0 y=0.0 z=177.8 \\nzntuple                    z=311.61120000000005 zloop= noSingles=0\\n                           format=ascii file=vd_B1_achromat.txt\\n                           filename=vd_B1_achromat.txt require=PDGid==-13\\n                           referenceParticle=0 coordinates=Centerline\\nbox          Drift1        height=80.11 width=120.1 length=463.8 maxStep=0.5\\n                           material=Vacuum color=0.6,0.6,0.6 kill=0\\nplace   Drift1  copies=1 x=0.0 y=0.0 z=543.6 \\nzntuple                    z=775.5217000000001 zloop= noSingles=0 format=ascii\\n                           file=vd_D1_achromat.txt filename=vd_D1_achromat.txt\\n                           require=PDGid==-13 referenceParticle=0\\n                           coordinates=Centerline\\ngenericquad  Q1            fieldLength=73.12 ironLength=73.12 ironRadius=30.44\\n                           apertureRadius=20.44 poleTipRadius=0 coilRadius=0\\n                           coilHalfwidth=0 coilHalfWidth=0 gradient=-43.45\\n                           maxStep=0.5 ironMaterial=Fe fieldMaterial=Vacuum\\n                           ironColor=0.4,0.8,0.4 kill=0 fringe= fringeFactor=1\\n                           openAperture=0\\nplace   Q1      copies=1 x=0.0 y=0.0 z=812.2 \\nzntuple                    z=848.7451000000001 zloop= noSingles=0 format=ascii\\n                           file=vd_Q1_achromat.txt filename=vd_Q1_achromat.txt\\n                           require=PDGid==-13 referenceParticle=0\\n                           coordinates=Centerline\\nbox          Drift2        height=129.1 width=102 length=316.7 maxStep=0.5\\n                           material=Vacuum color=0.6,0.6,0.6 kill=0\\nplace   Drift2  copies=1 x=0.0 y=0.0 z=1007.2 \\nzntuple                    z=1165.5907000000002 zloop= noSingles=0\\n                           format=ascii file=vd_D2_achromat.txt\\n                           filename=vd_D2_achromat.txt require=PDGid==-13\\n                           referenceParticle=0 coordinates=Centerline\\ngenericbend  B2            fieldWidth=167.6 fieldHeight=144.8\\n                           fieldLength=53.63 ironWidth=177.6 ironHeight=154.8\\n                           ironLength=53.63 By=-0.0126 maxStep=0.5\\n                           fieldMaterial=Vacuum fieldColor=0,0,1\\n                           ironMaterial=Fe ironColor=0.6,0.6,0.6 kill=0\\n                           fringe= fringeFactor=1 openAperture=0\\nplace   B2      copies=1 x=0.0 y=0.0 z=1192.5 \\nzntuple                    z=1219.3235 zloop= noSingles=0 format=ascii\\n                           file=vd_B2_achromat.txt filename=vd_B2_achromat.txt\\n                           require=PDGid==-13 referenceParticle=0\\n                           coordinates=Centerline\\nzntuple                    z=1229.4234999999999 zloop= noSingles=0\\n                           format=ascii file=vd_achromatLoop.txt\\n                           filename=vd_achromatLoop.txt require=PDGid==-13\\n                           referenceParticle=0 coordinates=Centerline\\n\\nWorld size (before incrementing by 201.357 mm): 154.8 H  177.6 W  2438.6 L\\n\\nPARAMETERS:\\n            Zcl=1219.32\\n          beamZ=0\\n       beamfile=particles_after.txt\\n     deltaChord=3.0\\ndeltaIntersection=0.1\\n   deltaOneStep=0.01\\n         epsMax=0.05\\n         epsMin=2.5e-7\\n eventTimeLimit=30\\n    fieldVoxels=400,400,400\\n      histoFile=g4beamline\\n    histoUpdate=0\\n        maxStep=0.5\\n        minStep=0.01\\n     nparticles=5000\\n steppingFormat=N,GLOBAL,CL,STEP,VOL,PROCESS,P,KE,POLAR,B\\nsteppingVerbose=0\\n         viewer=none\\n wallClockLimit=-1\\n  worldMaterial=Vacuum\\n     zTolerance=2.0\\n         zbegin=0.0\\nChecking overlaps for volume B1:0 (G4Box) ... OK! \\nChecking overlaps for volume B1:0 (G4SubtractionSolid) ... OK! \\nBLCMDgenericbend::Construct B1 parent= relZ=177.8 globZ=177.8\\n\\tzmin=43.9 zmax=311.6\\nChecking overlaps for volume Drift1:0 (G4Box) ... OK! \\nBLCMDbox::Construct Drift1 parent= relZ=543.6 globZ=543.6\\n\\tzmin=311.7 zmax=775.5\\nChecking overlaps for volume Q1:0 (G4Tubs) ... OK! \\nChecking overlaps for volume Q1:0 (G4Tubs) ... OK! \\nBLCMDgenericquad::Construct Q1 parent= relZ=812.2 globZ=812.2\\nChecking overlaps for volume Drift2:0 (G4Box) ... OK! \\nBLCMDbox::Construct Drift2 parent= relZ=1007.2 globZ=1007.2\\n\\tzmin=848.8 zmax=1165.6\\nChecking overlaps for volume B2:0 (G4Box) ... OK! \\nChecking overlaps for volume B2:0 (G4SubtractionSolid) ... OK! \\nBLCMDgenericbend::Construct B2 parent= relZ=1192.5 globZ=1192.5\\n\\tzmin=1165.7 zmax=1219.3\\n### Adding tracking cuts for neutron  TimeCut(ns)= 10000  KinEnergyCut(MeV)= 0\\n\\nGeometry test nPoints=100 tolerance=0.002 mm:\\nTesting geometry for children of group 'World':\\nTotal geometry errors = 0  0 seconds\\n\\n**************************************************************************\\n*** G4Exception: EM Field Extends Outside World\\n***    severity: Warning\\n***   issued by: BLGlobalField\\n*** description: May give inaccurate tracking near world boundary.\\n**************************************************************************\\nfieldVoxels: nx=1 ny=1 nz=4, 4 voxels, 3 fields\\nfieldVoxels: max field count is 2 fields, # voxels >5: 0, >10: 0, >20: 0\\n================== Prepare Tracking Beam ==================\\nStochastic processes are enabled.\\n================== Begin Tracking Beam ===============\\nEvent 1 Completed  1 events  realTime=1 sec  1.0 ev/sec\\nEvent 2 Completed  2 events  realTime=1 sec  2.0 ev/sec\\nEvent 3 Completed  3 events  realTime=1 sec  3.0 ev/sec\\nEvent 4 Completed  4 events  realTime=1 sec  4.0 ev/sec\\nEvent 5 Completed  5 events  realTime=1 sec  5.0 ev/sec\\nEvent 6 Completed  6 events  realTime=1 sec  6.0 ev/sec\\nEvent 7 Completed  7 events  realTime=1 sec  7.0 ev/sec\\nEvent 8 Completed  8 events  realTime=1 sec  8.0 ev/sec\\nEvent 9 Completed  9 events  realTime=1 sec  9.0 ev/sec\\nEvent 10 Completed  10 events  realTime=1 sec  10.0 ev/sec\\nEvent 20 Completed  20 events  realTime=1 sec  20.0 ev/sec\\nEvent 30 Completed  30 events  realTime=1 sec  30.0 ev/sec\\nEvent 40 Completed  40 events  realTime=1 sec  40.0 ev/sec\\nEvent 50 Completed  50 events  realTime=1 sec  50.0 ev/sec\\nEvent 60 Completed  60 events  realTime=1 sec  60.0 ev/sec\\nEvent 70 Completed  70 events  realTime=1 sec  70.0 ev/sec\\nEvent 80 Completed  80 events  realTime=1 sec  80.0 ev/sec\\nEvent 90 Completed  90 events  realTime=1 sec  90.0 ev/sec\\nEvent 100 Completed  100 events  realTime=1 sec  100.0 ev/sec\\nEvent 200 Completed  200 events  realTime=1 sec  200.0 ev/sec\\nEvent 300 Completed  300 events  realTime=1 sec  300.0 ev/sec\\nEvent 400 Completed  400 events  realTime=1 sec  400.0 ev/sec\\nEvent 500 Completed  500 events  realTime=1 sec  500.0 ev/sec\\nEvent 600 Completed  600 events  realTime=1 sec  600.0 ev/sec\\nEvent 700 Completed  700 events  realTime=1 sec  700.0 ev/sec\\nEvent 800 Completed  800 events  realTime=1 sec  800.0 ev/sec\\nEvent 900 Completed  900 events  realTime=2 sec  450.0 ev/sec\\nEvent 1000 Completed  1000 events  realTime=2 sec  500.0 ev/sec\\nEvent 2000 Completed  2000 events  realTime=4 sec  500.0 ev/sec\\nEvent 3000 Completed  3000 events  realTime=6 sec  500.0 ev/sec\\nEvent 4000 Completed  4000 events  realTime=8 sec  500.0 ev/sec\\nEvent 5000 Completed  5000 events  realTime=10 sec  500.0 ev/sec\\nRun complete  5000 Events  10 seconds\\nNTuple Z0                  5000 entries\\nNTuple Z312                1916 entries\\nNTuple Z776                1888 entries\\nNTuple Z849                1746 entries\\nNTuple Z1166               1496 entries\\nNTuple Z1219               1347 entries\\nNTuple Z1229               1332 entries\\n\\nExceptions: 0 Fatal, 0 Events Aborted, 0 Stuck Tracks (stopped), 1 Warnings\\n      1 times: EM Field Extends Outside World\\ng4beamline: simulation complete\\nSynRad:  Incoherent Synchrotron Radiation\\nGood description for long magnets at all energies.\\n\", stderr='')\n"
     ]
    }
   ],
   "source": [
    "# Run g4bl and get the Output file\n",
    "if os.path.exists(\"field_cell.dat\"):\n",
    "    os.remove(\"field_cell.dat\")\n",
    "result = subprocess.run([\"g4bl\", G4BLFILE], capture_output=True, text=True, check=True)\n",
    "print(result)"
   ]
  },
  {
   "cell_type": "code",
   "execution_count": 48,
   "metadata": {},
   "outputs": [],
   "source": [
    "# Make the results a dataframe and calculate the Courant-Snyder Parameters\n",
    "df = read_trackfile(G4BLOUTPUT)\n",
    "x_params, y_params, z_emit = calc_all_params(df)"
   ]
  },
  {
   "cell_type": "code",
   "execution_count": 49,
   "metadata": {},
   "outputs": [
    {
     "name": "stdout",
     "output_type": "stream",
     "text": [
      "{'D_x': np.float64(-0.01686606911665844), \"D'_x\": np.float64(-0.042146330553787276), 'D_y': np.float64(0.0012423677799153227), \"D'_y\": np.float64(0.013211189140317586)}\n",
      "0.00223685646279882\n",
      "Epsilon_z: 10.930433813682345\n"
     ]
    }
   ],
   "source": [
    "x_params, y_params, z_emit\n",
    "D_dict = {\"D_x\": x_params[4], \"D'_x\": x_params[5], \"D_y\": y_params[4], \"D'_y\": y_params[5]}\n",
    "print(D_dict)\n",
    "cost = D_dict[\"D_x\"]**2 + D_dict[\"D'_x\"]**2 + D_dict[\"D_y\"]**2 + D_dict[\"D'_y\"]**2 \n",
    "print(cost)\n",
    "print(r\"Epsilon_z: \"+str(z_emit))"
   ]
  },
  {
   "cell_type": "code",
   "execution_count": null,
   "metadata": {},
   "outputs": [],
   "source": []
  }
 ],
 "metadata": {
  "kernelspec": {
   "display_name": "base",
   "language": "python",
   "name": "python3"
  },
  "language_info": {
   "codemirror_mode": {
    "name": "ipython",
    "version": 3
   },
   "file_extension": ".py",
   "mimetype": "text/x-python",
   "name": "python",
   "nbconvert_exporter": "python",
   "pygments_lexer": "ipython3",
   "version": "3.12.2"
  }
 },
 "nbformat": 4,
 "nbformat_minor": 2
}
