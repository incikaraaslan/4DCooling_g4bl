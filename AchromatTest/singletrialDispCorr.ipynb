{
 "cells": [
  {
   "cell_type": "markdown",
   "metadata": {},
   "source": [
    "### Inci's Preliminary Dispersion Calculation Code"
   ]
  },
  {
   "cell_type": "code",
   "execution_count": 1,
   "metadata": {},
   "outputs": [],
   "source": [
    "# Imports\n",
    "import numpy as np\n",
    "import matplotlib.pyplot as plt\n",
    "from g4beam import *\n",
    "from scan import *\n",
    "from scipy.optimize import differential_evolution\n",
    "\n",
    "import math\n",
    "import matplotlib.pyplot as plt\n",
    "import matplotlib.animation as animation\n",
    "from matplotlib import cm\n",
    "import numpy as np\n",
    "import pandas as pd\n",
    "from tqdm import *\n",
    "import pickle\n",
    "import itertools\n",
    "from tabulate import tabulate\n",
    "import tempfile\n",
    "import glob\n",
    "import json\n",
    "import warnings\n",
    "warnings.filterwarnings('ignore', category=DeprecationWarning)"
   ]
  },
  {
   "cell_type": "code",
   "execution_count": 2,
   "metadata": {},
   "outputs": [
    {
     "name": "stdout",
     "output_type": "stream",
     "text": [
      "/home/incik/G4beamline-3.08/bin/g4bl\n"
     ]
    }
   ],
   "source": [
    "# Make Sure g4bl is here\n",
    "import os\n",
    "os.environ[\"PATH\"] += os.pathsep + \"/home/incik/G4beamline-3.08/bin\"\n",
    "import shutil\n",
    "print(shutil.which(\"g4bl\"))"
   ]
  },
  {
   "cell_type": "code",
   "execution_count": 3,
   "metadata": {},
   "outputs": [
    {
     "name": "stdout",
     "output_type": "stream",
     "text": [
      "{'D_x': np.float64(0.007405947668631706), \"D'_x\": np.float64(-0.18883973986720437), 'D_y': np.float64(5.278092595079276e-05), \"D'_y\": np.float64(0.012149181979370281)}\n",
      "0.03586290082257793\n",
      "Epsilon_z: 8.303137587240382\n"
     ]
    },
    {
     "name": "stderr",
     "output_type": "stream",
     "text": [
      "/tmp/ipykernel_20585/2940929977.py:13: FutureWarning: The 'delim_whitespace' keyword in pd.read_csv is deprecated and will be removed in a future version. Use ``sep='\\s+'`` instead\n",
      "  df = pd.read_csv(filename, comment=\"#\", delim_whitespace=True, names=columns)\n"
     ]
    }
   ],
   "source": [
    "# Load data POST WEDGE as a Dataframe so that you can use Daniel Fu's functions\n",
    "filename = \"particles_after.txt\"\n",
    "\n",
    "# Skip the first two header lines that start with '#'\n",
    "with open(filename) as f:\n",
    "    # Read until the line containing column names\n",
    "    for line in f:\n",
    "        if line.startswith(\"#x \"):\n",
    "            columns = line.strip().lstrip(\"#\").split()\n",
    "            break\n",
    "\n",
    "# Now load the data into a DataFrame\n",
    "df = pd.read_csv(filename, comment=\"#\", delim_whitespace=True, names=columns)\n",
    "\n",
    "x_params, y_params, z_emit = calc_all_params(df) # _params are tuples of the form (emittance, beta, gamma, alpha, D, D')\n",
    "D_dict = {\"D_x\": x_params[4], \"D'_x\": x_params[5], \"D_y\": y_params[4], \"D'_y\": y_params[5]}\n",
    "print(D_dict)\n",
    "cost = D_dict[\"D_x\"]**2 + D_dict[\"D'_x\"]**2 + D_dict[\"D_y\"]**2 + D_dict[\"D'_y\"]**2 \n",
    "print(cost)\n",
    "print(r\"Epsilon_z: \"+str(z_emit))"
   ]
  },
  {
   "cell_type": "code",
   "execution_count": 4,
   "metadata": {},
   "outputs": [
    {
     "name": "stdout",
     "output_type": "stream",
     "text": [
      "84.8239 177.20760000000004 177.1076\n"
     ]
    }
   ],
   "source": [
    "# ---------------- USER CONFIG ----------------\n",
    "G4BEAMLINE_CMD = \"g4bl\"\n",
    "TEMPLATE_FILE = \"Achromat.g4bl\"\n",
    "OUTPUT_DIR = \"achromat_runs\"\n",
    "VD_FILENAME = \"vd_achromat.txt\"   # virtual detector writes this file (ascii)\n",
    "N_PARTICLES = 5000             # increase for lower noise\n",
    "G4BLFILE = f\"/home/incik/Cooling_4D/AchromatTest/run.g4bl\"\n",
    "G4BLOUTPUT =f\"/home/incik/Cooling_4D/AchromatTest/{VD_FILENAME}\"\n",
    "E0 = 1e4                       # beam energy (GeV) - for a muon collider\n",
    "\n",
    "# {B1_field}, {B1_width}, {B1_height}, {B1_length}, {B1_z}, {Q1_gradient}, {Q1_length}, {radius_q}\n",
    "# {B2_field}, {B2_width}, {B2_height}, {B2_length}\n",
    "# {Drift1_width}, {Drift1_height}, {Drift1_length}, \n",
    "# {Drift2_width}, {Drift2_height}, {Drift2_length}\n",
    "\n",
    "var_names = [\"N_PARTICLES\", \"B1_field\", \"B1_width\", \"B1_height\", \"B1_length\", \"B1_z\",\n",
    "            \"Q1_gradient\", \"Q1_length\", \"radius_q\", \"B2_field\", \"B2_width\", \"B2_height\", \"B2_length\",\n",
    "            \"Drift1_width\", \"Drift1_height\", \"Drift1_length\", \"Drift2_width\", \"Drift2_height\", \"Drift2_length\", \"VD_FILENAME\"]\n",
    "# 5000 Particle Opt:\n",
    "xvec = np.array([int(N_PARTICLES),  -0.0157, 123.8669, 76.5539, 184.5674, 84.8239, -2.7065, 244.3089, 18.1791, -1.4222, 158.1968, 57.5410, 359.0282, \n",
    "                 181.6853, 166.1331, 157.8154,  181.9824, 133.1504, 468.2003, VD_FILENAME])\n",
    "# 1000 Particle Opt:\n",
    "# xvec = np.array([int(N_PARTICLES),  -0.6719, 63.3749, 156.8672, 224.0275, 63.3824, -91.1134, 156.1167, 14.6261, -1.4102, 109.7400, 197.3407, 274.0035, 175.7871, 100.1926, 71.6003,  76.0153, 73.1403, 725.5903, VD_FILENAME])\n",
    "# np.array([int(N_PARTICLES), 1.0, 100.0, 100.0, 30.0, 50.0, 12.0, 250.0, 10.0, 4.0, 100.0, 100.0, 200.0, 100.0, 100.0, 250.0, 100.0, 100.0, 250.0, VD_FILENAME])\n",
    "calcparams = {name: val for name, val in zip(var_names, xvec)}\n",
    "\n",
    "GAP = 0.1  # in mm (can be up to 1.0 safely)\n",
    "B1_z_val = float(calcparams[\"B1_z\"])\n",
    "L_B1 = float(calcparams[\"B1_length\"])\n",
    "L_D1 = float(calcparams[\"Drift1_length\"])\n",
    "L_Q1 = float(calcparams[\"Q1_length\"])\n",
    "L_D2 = float(calcparams[\"Drift2_length\"])\n",
    "L_B2 = float(calcparams[\"B2_length\"])\n",
    "\n",
    "Drift1_z = B1_z_val + (L_B1/2) + (L_D1/2) + GAP\n",
    "Q1_z     = Drift1_z + (L_D1/2) + (L_Q1/2) + GAP\n",
    "Drift2_z = Q1_z + (L_Q1/2) + (L_D2/2)+ GAP\n",
    "B2_z     = Drift2_z + (L_D2/2) + (L_B2/2) + GAP\n",
    "VD_z     = B2_z + (L_B2/2) + 10.0 + GAP\n",
    "\n",
    "print(B1_z_val, Drift1_z-(L_D1/2), B1_z_val + (L_B1/2))\n",
    "\n",
    "add_params = {\"Drift1_z\": Drift1_z, \"Q1_z\": Q1_z, \"Drift2_z\":Drift2_z, \"B2_z\": B2_z, \"VD_z\": VD_z}\n",
    "calcparams.update(add_params)\n",
    "\n",
    "for k, v in calcparams.items():\n",
    "    if k == \"N_PARTICLES\" or k == \"VD_FILENAME\":\n",
    "        continue\n",
    "    else:\n",
    "        calcparams[k] = float(v)\n",
    "\n",
    "# os.makedirs(OUTPUT_DIR, exist_ok=True)"
   ]
  },
  {
   "cell_type": "code",
   "execution_count": 5,
   "metadata": {},
   "outputs": [
    {
     "name": "stdout",
     "output_type": "stream",
     "text": [
      "{'N_PARTICLES': np.str_('5000'), 'B1_field': -0.0157, 'B1_width': 123.8669, 'B1_height': 76.5539, 'B1_length': 184.5674, 'B1_z': 84.8239, 'Q1_gradient': -2.7065, 'Q1_length': 244.3089, 'radius_q': 18.1791, 'B2_field': -1.4222, 'B2_width': 158.1968, 'B2_height': 57.541, 'B2_length': 359.0282, 'Drift1_width': 181.6853, 'Drift1_height': 166.1331, 'Drift1_length': 157.8154, 'Drift2_width': 181.9824, 'Drift2_height': 133.1504, 'Drift2_length': 468.2003, 'VD_FILENAME': np.str_('vd_achromat.txt'), 'Drift1_z': 256.11530000000005, 'Q1_z': 457.27745000000004, 'Drift2_z': 813.63205, 'B2_z': 1227.3463000000002, 'VD_z': 1416.9604000000002}\n"
     ]
    }
   ],
   "source": [
    "# Write values to the prepared G4BL template\n",
    "def write_input_from_template(template_path, out_path, replacements):\n",
    "    with open(template_path, 'r') as f:\n",
    "        txt = f.read()\n",
    "    try:\n",
    "        txt = txt.format(**replacements)\n",
    "    except KeyError as e:\n",
    "        raise RuntimeError(f\"Template substitution failed; missing placeholder: {e}\")\n",
    "    with open(out_path, 'w') as f:\n",
    "        f.write(txt)\n",
    "\n",
    "# How to Use?\n",
    "print(calcparams)\n",
    "write_input_from_template(TEMPLATE_FILE, G4BLFILE, calcparams)"
   ]
  },
  {
   "cell_type": "code",
   "execution_count": 6,
   "metadata": {},
   "outputs": [
    {
     "name": "stdout",
     "output_type": "stream",
     "text": [
      "CompletedProcess(args=['g4bl', '/home/incik/Cooling_4D/AchromatTest/run.g4bl'], returncode=0, stdout=\"G4BL_DIR=/home/incik/G4beamline-3.08\\nG4LEDATA=/home/incik/Geant4Data/G4EMLOW8.0\\nG4ENSDFSTATEDATA=/home/incik/Geant4Data/G4ENSDFSTATE2.3\\nG4PARTICLEXSDATA=/home/incik/Geant4Data/G4PARTICLEXS4.0\\nG4LEVELGAMMADATA=/home/incik/Geant4Data/PhotonEvaporation5.7\\nG4RADIOACTIVEDATA=/home/incik/Geant4Data/RadioactiveDecay5.6\\nG4beamline Process ID 30982\\n\\n*************************************************************\\n g4beamline version: 3.08                        (Aug 11 2022)\\n                      Copyright : Tom Roberts, Muons, Inc.\\n                        License : Gnu Public License\\n                            WWW : http://g4beamline.muonsinc.com\\n\\n          ################################\\n          !!! G4Backtrace is activated !!!\\n          ################################\\n\\n\\n**************************************************************\\n Geant4 version Name: geant4-11-00-patch-02 [MT]   (25-May-2022)\\n                       Copyright : Geant4 Collaboration\\n                      References : NIM A 506 (2003), 250-303\\n                                 : IEEE-TNS 53 (2006), 270-278\\n                                 : NIM A 835 (2016), 186-225\\n                             WWW : http://geant4.org/\\n**************************************************************\\n\\ngeometry                   nPoints=100 printGeometry=0 visual=0\\n                           tolerance=0.002\\nparam        zbegin        0.0\\nstart                      x=0 y=0 z=0 initialZ=0 rotation= radiusCut=300\\n                           ring=0\\nparam        steppingFormat N,GLOBAL,CL,STEP,VOL,PROCESS,P,KE,POLAR,B\\nparam        fieldVoxels   400,400,400\\nparam        maxStep       0.5\\nG4PhysListFactory::GetReferencePhysList <QGSP_BERT>  EMoption= 0\\n<<< Geant4 Physics List simulation engine: QGSP_BERT\\n\\n\\nphysics      QGSP_BERT     disable= inactivate= deactivate= doStochastics=1\\n                           fluct=1 minRangeCut=1 list=0 gammaToMuPair=0\\n                           spinTracking=1 synchrotronRadiation=1\\n                           synchrotronRadiationMuon=0 maxTime=1e+06\\ntrackcuts                  kill= keep=mu-,mu+ killSecondaries=0\\n                           kineticEnergyCut=0 kineticEnergyMax=1.798e+308\\n                           maxTime=1e+06 keepPrimaries=0 steppingVerbose=0\\nparticlecolor              proton=1,1,1\\nparticlecolor              pi+=0,1,0\\nparticlecolor              mu+=1,0.5,0\\nparticlecolor              e+=1,0,0\\nparticlecolor              gamma=0,0,1\\nparticlecolor              e-=1,0.5,0\\nparam        nparticles    5000\\nparam        beamfile      particles_before.txt\\nparam        beamZ         0\\nbeam    ASCII   nEvents=5000 firstEvent=-1 lastEvent=2147483647 beamZ=0.0 maxR=1000000.0 renumber=0 weight=1.000000 \\n\\t\\tfilename=particles_before.txt format=BLTrackFile \\n\\t\\t\\ngenericbend  B1            fieldWidth=123.9 fieldHeight=76.55\\n                           fieldLength=184.6 ironWidth=133.9 ironHeight=86.55\\n                           ironLength=184.6 By=-0.0157 maxStep=0.5\\n                           fieldMaterial=Vacuum fieldColor=0,0,1\\n                           ironMaterial=Fe ironColor=0.6,0.6,0.6 kill=0\\n                           fringe= fringeFactor=1 openAperture=0\\nplace   B1      copies=1 x=0.0 y=0.0 z=84.8 \\nbox          Drift1        height=166.1 width=181.7 length=157.8 maxStep=0.5\\n                           material=Vacuum color=0.6,0.6,0.6 kill=0\\nplace   Drift1  copies=1 x=0.0 y=0.0 z=256.1 \\ngenericquad  Q1            fieldLength=244.3 ironLength=244.3 ironRadius=28.18\\n                           apertureRadius=18.18 poleTipRadius=0 coilRadius=0\\n                           coilHalfwidth=0 coilHalfWidth=0 gradient=-2.707\\n                           maxStep=0.5 ironMaterial=Fe fieldMaterial=Vacuum\\n                           ironColor=0.4,0.8,0.4 kill=0 fringe= fringeFactor=1\\n                           openAperture=0\\nplace   Q1      copies=1 x=0.0 y=0.0 z=457.3 \\nbox          Drift2        height=133.2 width=182 length=468.2 maxStep=0.5\\n                           material=Vacuum color=0.6,0.6,0.6 kill=0\\nplace   Drift2  copies=1 x=0.0 y=0.0 z=813.6 \\ngenericbend  B2            fieldWidth=158.2 fieldHeight=57.54 fieldLength=359\\n                           ironWidth=168.2 ironHeight=67.54 ironLength=359\\n                           By=-1.422 maxStep=0.5 fieldMaterial=Vacuum\\n                           fieldColor=0,0,1 ironMaterial=Fe\\n                           ironColor=0.6,0.6,0.6 kill=0 fringe= fringeFactor=1\\n                           openAperture=0\\nplace   B2      copies=1 x=0.0 y=0.0 z=1227.3 \\nzntuple                    z=1416.9604000000002 zloop= noSingles=0\\n                           format=ascii file=vd_achromat.txt\\n                           filename=vd_achromat.txt require=PDGid==-13\\n                           referenceParticle=0 coordinates=Centerline\\n\\nWorld size (before incrementing by 201.357 mm): 166.1 H  182.0 W  2813.7 L\\n\\nPARAMETERS:\\n            Zcl=1406.86\\n          beamZ=0\\n       beamfile=particles_before.txt\\n     deltaChord=3.0\\ndeltaIntersection=0.1\\n   deltaOneStep=0.01\\n         epsMax=0.05\\n         epsMin=2.5e-7\\n eventTimeLimit=30\\n    fieldVoxels=400,400,400\\n      histoFile=g4beamline\\n    histoUpdate=0\\n        maxStep=0.5\\n        minStep=0.01\\n     nparticles=5000\\n steppingFormat=N,GLOBAL,CL,STEP,VOL,PROCESS,P,KE,POLAR,B\\nsteppingVerbose=0\\n         viewer=none\\n wallClockLimit=-1\\n  worldMaterial=Vacuum\\n     zTolerance=2.0\\n         zbegin=0.0\\nChecking overlaps for volume B1:0 (G4Box) ... OK! \\nChecking overlaps for volume B1:0 (G4SubtractionSolid) ... OK! \\nBLCMDgenericbend::Construct B1 parent= relZ=84.8 globZ=84.8\\n\\tzmin=-7.5 zmax=177.1\\nChecking overlaps for volume Drift1:0 (G4Box) ... OK! \\nBLCMDbox::Construct Drift1 parent= relZ=256.1 globZ=256.1\\n\\tzmin=177.2 zmax=335.0\\nChecking overlaps for volume Q1:0 (G4Tubs) ... OK! \\nChecking overlaps for volume Q1:0 (G4Tubs) ... OK! \\nBLCMDgenericquad::Construct Q1 parent= relZ=457.3 globZ=457.3\\nChecking overlaps for volume Drift2:0 (G4Box) ... OK! \\nBLCMDbox::Construct Drift2 parent= relZ=813.6 globZ=813.6\\n\\tzmin=579.5 zmax=1047.7\\nChecking overlaps for volume B2:0 (G4Box) ... OK! \\nChecking overlaps for volume B2:0 (G4SubtractionSolid) ... OK! \\nBLCMDgenericbend::Construct B2 parent= relZ=1227.3 globZ=1227.3\\n\\tzmin=1047.8 zmax=1406.9\\n### Adding tracking cuts for neutron  TimeCut(ns)= 10000  KinEnergyCut(MeV)= 0\\n\\nGeometry test nPoints=100 tolerance=0.002 mm:\\nTesting geometry for children of group 'World':\\nTotal geometry errors = 0  0 seconds\\n\\n================== Prepare Tracking Beam ==================\\nStochastic processes are enabled.\\n================== Begin Tracking Beam ===============\\n**************************************************************************\\n*** G4Exception: EM Field Extends Outside World\\n***    severity: Warning\\n***   issued by: BLGlobalField\\n*** description: May give inaccurate tracking near world boundary.\\n***     EventID: 1     TrackID: 1   mu+  KE=26.67 MeV\\n**************************************************************************\\nfieldVoxels: nx=1 ny=1 nz=5, 5 voxels, 3 fields\\nfieldVoxels: max field count is 2 fields, # voxels >5: 0, >10: 0, >20: 0\\nEvent 1 Completed  1 events  realTime=1 sec  1.0 ev/sec\\nEvent 2 Completed  2 events  realTime=1 sec  2.0 ev/sec\\nEvent 3 Completed  3 events  realTime=1 sec  3.0 ev/sec\\nEvent 4 Completed  4 events  realTime=1 sec  4.0 ev/sec\\nEvent 5 Completed  5 events  realTime=1 sec  5.0 ev/sec\\nEvent 6 Completed  6 events  realTime=1 sec  6.0 ev/sec\\nEvent 7 Completed  7 events  realTime=1 sec  7.0 ev/sec\\nEvent 8 Completed  8 events  realTime=1 sec  8.0 ev/sec\\nEvent 9 Completed  9 events  realTime=1 sec  9.0 ev/sec\\nEvent 10 Completed  10 events  realTime=1 sec  10.0 ev/sec\\nEvent 20 Completed  20 events  realTime=1 sec  20.0 ev/sec\\nEvent 30 Completed  30 events  realTime=1 sec  30.0 ev/sec\\nEvent 40 Completed  40 events  realTime=1 sec  40.0 ev/sec\\nEvent 50 Completed  50 events  realTime=1 sec  50.0 ev/sec\\nEvent 60 Completed  60 events  realTime=1 sec  60.0 ev/sec\\nEvent 70 Completed  70 events  realTime=1 sec  70.0 ev/sec\\nEvent 80 Completed  80 events  realTime=1 sec  80.0 ev/sec\\nEvent 90 Completed  90 events  realTime=1 sec  90.0 ev/sec\\nEvent 100 Completed  100 events  realTime=1 sec  100.0 ev/sec\\nEvent 200 Completed  200 events  realTime=1 sec  200.0 ev/sec\\nEvent 300 Completed  300 events  realTime=1 sec  300.0 ev/sec\\nEvent 400 Completed  400 events  realTime=1 sec  400.0 ev/sec\\nEvent 500 Completed  500 events  realTime=2 sec  250.0 ev/sec\\nEvent 600 Completed  600 events  realTime=2 sec  300.0 ev/sec\\nEvent 700 Completed  700 events  realTime=2 sec  350.0 ev/sec\\nEvent 800 Completed  800 events  realTime=3 sec  266.7 ev/sec\\nEvent 900 Completed  900 events  realTime=3 sec  300.0 ev/sec\\nEvent 1000 Completed  1000 events  realTime=3 sec  333.3 ev/sec\\nEvent 2000 Completed  2000 events  realTime=6 sec  333.3 ev/sec\\nEvent 3000 Completed  3000 events  realTime=9 sec  333.3 ev/sec\\nEvent 4000 Completed  4000 events  realTime=12 sec  333.3 ev/sec\\nEvent 5000 Completed  5000 events  realTime=15 sec  333.3 ev/sec\\nRun complete  5000 Events  15 seconds\\nNTuple Z1417               1782 entries\\n\\nExceptions: 0 Fatal, 0 Events Aborted, 0 Stuck Tracks (stopped), 1 Warnings\\n      1 times: EM Field Extends Outside World\\ng4beamline: simulation complete\\nSynRad:  Incoherent Synchrotron Radiation\\nGood description for long magnets at all energies.\\n\", stderr='')\n"
     ]
    }
   ],
   "source": [
    "# Run g4bl and get the Output file\n",
    "\n",
    "result = subprocess.run([\"g4bl\", G4BLFILE], capture_output=True, text=True, check=True)\n",
    "print(result)"
   ]
  },
  {
   "cell_type": "code",
   "execution_count": 11,
   "metadata": {},
   "outputs": [],
   "source": [
    "# Make the results a dataframe and calculate the Courant-Snyder Parameters\n",
    "df = read_trackfile(G4BLOUTPUT)\n",
    "x_params, y_params, z_emit = calc_all_params(df)"
   ]
  },
  {
   "cell_type": "code",
   "execution_count": 12,
   "metadata": {},
   "outputs": [
    {
     "name": "stdout",
     "output_type": "stream",
     "text": [
      "{'D_x': np.float64(-0.01413751725358641), \"D'_x\": np.float64(-0.01306413688841289), 'D_y': np.float64(0.060572188560189845), \"D'_y\": np.float64(0.05129255398074614)}\n",
      "0.006670457187573594\n",
      "Epsilon_z: 4.3355067704032395\n"
     ]
    }
   ],
   "source": [
    "x_params, y_params, z_emit\n",
    "D_dict = {\"D_x\": x_params[4], \"D'_x\": x_params[5], \"D_y\": y_params[4], \"D'_y\": y_params[5]}\n",
    "print(D_dict)\n",
    "cost = D_dict[\"D_x\"]**2 + D_dict[\"D'_x\"]**2 + D_dict[\"D_y\"]**2 + D_dict[\"D'_y\"]**2 \n",
    "print(cost)\n",
    "print(r\"Epsilon_z: \"+str(z_emit))"
   ]
  }
 ],
 "metadata": {
  "kernelspec": {
   "display_name": "base",
   "language": "python",
   "name": "python3"
  },
  "language_info": {
   "codemirror_mode": {
    "name": "ipython",
    "version": 3
   },
   "file_extension": ".py",
   "mimetype": "text/x-python",
   "name": "python",
   "nbconvert_exporter": "python",
   "pygments_lexer": "ipython3",
   "version": "3.12.2"
  }
 },
 "nbformat": 4,
 "nbformat_minor": 2
}
